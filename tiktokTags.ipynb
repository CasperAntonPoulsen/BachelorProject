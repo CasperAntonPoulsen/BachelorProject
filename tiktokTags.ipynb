{
 "cells": [
  {
   "cell_type": "code",
   "execution_count": 8,
   "metadata": {},
   "outputs": [],
   "source": [
    "import pandas as pd\n",
    "from os import listdir"
   ]
  },
  {
   "cell_type": "code",
   "execution_count": 9,
   "metadata": {},
   "outputs": [
    {
     "data": {
      "text/plain": [
       "['tiktok-hashtags61e56ae1e16bc-efterr.xlsx',\n",
       " 'tiktok-hashtags61e56bf32d73a-vintermode.xlsx',\n",
       " 'tiktok-hashtags61e56c0623421-erdusindsyg.xlsx',\n",
       " 'tiktok-hashtags61e56c15670fa-dansk.xlsx',\n",
       " 'tiktok-hashtags61e56fb4ef262-danmark.xlsx',\n",
       " 'tiktok-hashtags61e56fbbde31e-dansktiktok.xlsx',\n",
       " 'tiktok-hashtags61e56fc2393ec-danskhumor.xlsx',\n",
       " 'tiktok-hashtags61e56fca145a3-ternetninja2.xlsx',\n",
       " 'tiktok-hashtags61e571bb908d4-strik.xlsx']"
      ]
     },
     "execution_count": 9,
     "metadata": {},
     "output_type": "execute_result"
    }
   ],
   "source": [
    "listdir(\"TiktokTags\")"
   ]
  },
  {
   "cell_type": "code",
   "execution_count": 10,
   "metadata": {},
   "outputs": [],
   "source": [
    "workingDir = \"TiktokTags\""
   ]
  },
  {
   "cell_type": "code",
   "execution_count": 11,
   "metadata": {},
   "outputs": [],
   "source": [
    "dataframes = [pd.read_excel(workingDir + \"/\" + file, header=5) for file in listdir(workingDir)]"
   ]
  },
  {
   "cell_type": "code",
   "execution_count": 12,
   "metadata": {},
   "outputs": [],
   "source": [
    "df = pd.concat(dataframes)"
   ]
  },
  {
   "cell_type": "code",
   "execution_count": 13,
   "metadata": {},
   "outputs": [],
   "source": [
    "df_sorted = df.sort_values(by=\"Comment count\", ascending=False)"
   ]
  },
  {
   "cell_type": "code",
   "execution_count": 19,
   "metadata": {},
   "outputs": [],
   "source": [
    "df_sorted[(df_sorted[\"Comment count\"] != 0) & (df_sorted[\"Comment count\"] < 1000)].drop_duplicates('Video link').to_excel(\"sortedlessthanTikToks.xlsx\")"
   ]
  },
  {
   "cell_type": "code",
   "execution_count": 21,
   "metadata": {},
   "outputs": [
    {
     "data": {
      "text/plain": [
       "Index(['Unnamed: 0', 'Unnamed: 1', 'Video ID', 'Name (click to view profile)',\n",
       "       'Unique ID', 'Date', 'Description', 'Digg count', 'Share count',\n",
       "       'Play count', 'Comment count', 'Music', 'Author Following count',\n",
       "       'Author Follower count', 'Author Heart count', 'Author Video count',\n",
       "       'Author Digg count', 'Video link', '(view video)'],\n",
       "      dtype='object')"
      ]
     },
     "execution_count": 21,
     "metadata": {},
     "output_type": "execute_result"
    }
   ],
   "source": [
    "df_sorted.columns"
   ]
  }
 ],
 "metadata": {
  "interpreter": {
   "hash": "57baa5815c940fdaff4d14510622de9616cae602444507ba5d0b6727c008cbd6"
  },
  "kernelspec": {
   "display_name": "Python 3.7.8 64-bit",
   "language": "python",
   "name": "python3"
  },
  "language_info": {
   "codemirror_mode": {
    "name": "ipython",
    "version": 3
   },
   "file_extension": ".py",
   "mimetype": "text/x-python",
   "name": "python",
   "nbconvert_exporter": "python",
   "pygments_lexer": "ipython3",
   "version": "3.8.5"
  },
  "orig_nbformat": 4
 },
 "nbformat": 4,
 "nbformat_minor": 2
}
