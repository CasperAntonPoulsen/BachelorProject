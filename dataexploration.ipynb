{
 "cells": [
  {
   "cell_type": "code",
   "execution_count": 1,
   "metadata": {
    "collapsed": true
   },
   "outputs": [],
   "source": [
    "import pandas as pd\n",
    "import json\n"
   ]
  },
  {
   "cell_type": "code",
   "execution_count": 6,
   "outputs": [],
   "source": [
    "with open(\"drnyheder_posts.json\", encoding=\"utf-8\") as file:\n",
    "    posts = json.load(file)"
   ],
   "metadata": {
    "collapsed": false,
    "pycharm": {
     "name": "#%%\n"
    }
   }
  },
  {
   "cell_type": "code",
   "execution_count": 11,
   "outputs": [
    {
     "name": "stdout",
     "output_type": "stream",
     "text": [
      "579\n"
     ]
    }
   ],
   "source": [
    "numMissingComments = 0\n",
    "for post in posts:\n",
    "    if post[\"comments\"] > 0 and post[\"comments_full\"] == []:\n",
    "        numMissingComments += 1\n",
    "print(numMissingComments)"
   ],
   "metadata": {
    "collapsed": false,
    "pycharm": {
     "name": "#%%\n"
    }
   }
  },
  {
   "cell_type": "code",
   "execution_count": 10,
   "outputs": [
    {
     "data": {
      "text/plain": "{'post_id': '4508417155875440',\n 'text': 'Vi lader os særligt inspirere af vores oldeforældres navne, når vi skal finde ud af, hvad barnet skal hedde 👶\\n\\nDR.DK\\nHer er de mest populære babynavne i 2020',\n 'post_text': 'Vi lader os særligt inspirere af vores oldeforældres navne, når vi skal finde ud af, hvad barnet skal hedde 👶',\n 'shared_text': 'DR.DK\\nHer er de mest populære babynavne i 2020',\n 'time': '2021-07-14 16:17:51',\n 'timestamp': 1626272271,\n 'image': 'http://s3.amazonaws.com/photos.socialagency.com/vpc1/501/1626272170546_Q09MT1VSQk9YMzUyNTE5MTAuanBn.original.jpeg',\n 'image_lowquality': 'https://external-cph2-1.xx.fbcdn.net/safe_image.php?d=AQGGtU1vm_JqzHo4&w=796&h=416&url=http%3A%2F%2Fs3.amazonaws.com%2Fphotos.socialagency.com%2Fvpc1%2F501%2F1626272170546_Q09MT1VSQk9YMzUyNTE5MTAuanBn.original.jpeg&cfs=1&jq=75&ext=jpg&_nc_oe=6edd6&_nc_sid=06c271&ccb=3-5&_nc_hash=AQHX3lYrU_lSlguq',\n 'images': ['http://s3.amazonaws.com/photos.socialagency.com/vpc1/501/1626272170546_Q09MT1VSQk9YMzUyNTE5MTAuanBn.original.jpeg'],\n 'images_description': [],\n 'images_lowquality': ['https://external-cph2-1.xx.fbcdn.net/safe_image.php?d=AQGGtU1vm_JqzHo4&w=796&h=416&url=http%3A%2F%2Fs3.amazonaws.com%2Fphotos.socialagency.com%2Fvpc1%2F501%2F1626272170546_Q09MT1VSQk9YMzUyNTE5MTAuanBn.original.jpeg&cfs=1&jq=75&ext=jpg&_nc_oe=6edd6&_nc_sid=06c271&ccb=3-5&_nc_hash=AQHX3lYrU_lSlguq'],\n 'images_lowquality_description': [None],\n 'video': None,\n 'video_duration_seconds': None,\n 'video_height': None,\n 'video_id': None,\n 'video_quality': None,\n 'video_size_MB': None,\n 'video_thumbnail': None,\n 'video_watches': None,\n 'video_width': None,\n 'likes': 34,\n 'comments': 28,\n 'shares': 1,\n 'post_url': 'https://facebook.com/DRNyheder/posts/4508417155875440',\n 'link': 'https://www.dr.dk/nyheder/indland/romantiske-oldeforaeldrenavne-hitter-her-er-de-mest-populaere-babynavne-i-2020?cid=soc_facebook_drnyheder_post_i5f8535f',\n 'links': [],\n 'user_id': '115104055206794',\n 'username': 'DR Nyheder',\n 'user_url': 'https://facebook.com/DRNyheder/?__tn__=C-R',\n 'is_live': False,\n 'factcheck': None,\n 'shared_post_id': None,\n 'shared_time': None,\n 'shared_user_id': None,\n 'shared_username': None,\n 'shared_post_url': None,\n 'available': True,\n 'comments_full': [],\n 'reactors': None,\n 'w3_fb_url': None,\n 'reactions': None,\n 'reaction_count': None,\n 'with': None,\n 'image_id': None,\n 'image_ids': [],\n 'was_live': False}"
     },
     "execution_count": 10,
     "metadata": {},
     "output_type": "execute_result"
    }
   ],
   "source": [
    "posts[-1]"
   ],
   "metadata": {
    "collapsed": false,
    "pycharm": {
     "name": "#%%\n"
    }
   }
  }
 ],
 "metadata": {
  "kernelspec": {
   "display_name": "Python 3",
   "language": "python",
   "name": "python3"
  },
  "language_info": {
   "codemirror_mode": {
    "name": "ipython",
    "version": 2
   },
   "file_extension": ".py",
   "mimetype": "text/x-python",
   "name": "python",
   "nbconvert_exporter": "python",
   "pygments_lexer": "ipython2",
   "version": "2.7.6"
  }
 },
 "nbformat": 4,
 "nbformat_minor": 0
}